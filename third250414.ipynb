{
 "cells": [
  {
   "cell_type": "code",
   "execution_count": 2,
   "id": "c1bfdb2b",
   "metadata": {},
   "outputs": [],
   "source": [
    "#튜플\n",
    "\n",
    "t1 = (1, 2, 'a', ('ab', 'cd'))"
   ]
  },
  {
   "cell_type": "code",
   "execution_count": 3,
   "id": "c26d4998",
   "metadata": {},
   "outputs": [
    {
     "data": {
      "text/plain": [
       "tuple"
      ]
     },
     "execution_count": 3,
     "metadata": {},
     "output_type": "execute_result"
    }
   ],
   "source": [
    "type(t1)"
   ]
  },
  {
   "cell_type": "code",
   "execution_count": 6,
   "id": "44adfd4d",
   "metadata": {},
   "outputs": [],
   "source": [
    "t4 = 1, 2, 3, 4"
   ]
  },
  {
   "cell_type": "code",
   "execution_count": 10,
   "id": "90a6aea9",
   "metadata": {},
   "outputs": [
    {
     "data": {
      "text/plain": [
       "(1, 2, 3, 4)"
      ]
     },
     "execution_count": 10,
     "metadata": {},
     "output_type": "execute_result"
    }
   ],
   "source": [
    "tuple(t4)"
   ]
  },
  {
   "cell_type": "code",
   "execution_count": null,
   "id": "a5b3b83e",
   "metadata": {},
   "outputs": [
    {
     "ename": "TypeError",
     "evalue": "'tuple' object does not support item assignment",
     "output_type": "error",
     "traceback": [
      "\u001b[31m---------------------------------------------------------------------------\u001b[39m",
      "\u001b[31mTypeError\u001b[39m                                 Traceback (most recent call last)",
      "\u001b[36mCell\u001b[39m\u001b[36m \u001b[39m\u001b[32mIn[13]\u001b[39m\u001b[32m, line 1\u001b[39m\n\u001b[32m----> \u001b[39m\u001b[32m1\u001b[39m \u001b[43mt4\u001b[49m\u001b[43m[\u001b[49m\u001b[32;43m0\u001b[39;49m\u001b[43m]\u001b[49m = \u001b[32m2\u001b[39m\n",
      "\u001b[31mTypeError\u001b[39m: 'tuple' object does not support item assignment"
     ]
    }
   ],
   "source": [
    "# 값 변환 불가\n",
    "t4[0] = 2"
   ]
  },
  {
   "cell_type": "code",
   "execution_count": null,
   "id": "909cd9df",
   "metadata": {},
   "outputs": [
    {
     "ename": "TypeError",
     "evalue": "'tuple' object doesn't support item deletion",
     "output_type": "error",
     "traceback": [
      "\u001b[31m---------------------------------------------------------------------------\u001b[39m",
      "\u001b[31mTypeError\u001b[39m                                 Traceback (most recent call last)",
      "\u001b[36mCell\u001b[39m\u001b[36m \u001b[39m\u001b[32mIn[14]\u001b[39m\u001b[32m, line 1\u001b[39m\n\u001b[32m----> \u001b[39m\u001b[32m1\u001b[39m \u001b[38;5;28;01mdel\u001b[39;00m \u001b[43mt4\u001b[49m\u001b[43m[\u001b[49m\u001b[32;43m0\u001b[39;49m\u001b[43m]\u001b[49m\n",
      "\u001b[31mTypeError\u001b[39m: 'tuple' object doesn't support item deletion"
     ]
    }
   ],
   "source": [
    "# 값 삭제 불가\n",
    "del t4[0]"
   ]
  },
  {
   "cell_type": "code",
   "execution_count": 16,
   "id": "c0f3619e",
   "metadata": {},
   "outputs": [
    {
     "data": {
      "text/plain": [
       "False"
      ]
     },
     "execution_count": 16,
     "metadata": {},
     "output_type": "execute_result"
    }
   ],
   "source": [
    "5 in t4"
   ]
  },
  {
   "cell_type": "code",
   "execution_count": null,
   "id": "8aa9db54",
   "metadata": {},
   "outputs": [
    {
     "name": "stdout",
     "output_type": "stream",
     "text": [
      "정답입니다.\n"
     ]
    }
   ],
   "source": [
    "# 값 in 시퀀스객체\n",
    "\n",
    "fruit = [\"사과\", \"포도\", \"홍시\"]\n",
    "user = input(\"좋아하는 과일은?\")\n",
    "\n",
    "if user in fruit:\n",
    "    print(\"정답입니다.\")\n",
    "else:\n",
    "    print(\"오답입니다.\")"
   ]
  },
  {
   "cell_type": "code",
   "execution_count": null,
   "id": "4f9d2f27",
   "metadata": {},
   "outputs": [
    {
     "ename": "TypeError",
     "evalue": "unsupported operand type(s) for +: 'int' and 'list'",
     "output_type": "error",
     "traceback": [
      "\u001b[31m---------------------------------------------------------------------------\u001b[39m",
      "\u001b[31mTypeError\u001b[39m                                 Traceback (most recent call last)",
      "\u001b[36mCell\u001b[39m\u001b[36m \u001b[39m\u001b[32mIn[33]\u001b[39m\u001b[32m, line 8\u001b[39m\n\u001b[32m      5\u001b[39m grade = {\u001b[33m\"\u001b[39m\u001b[33mAlice\u001b[39m\u001b[33m\"\u001b[39m: [\u001b[32m90\u001b[39m, \u001b[32m85\u001b[39m, \u001b[32m92\u001b[39m], \u001b[33m\"\u001b[39m\u001b[33mBob\u001b[39m\u001b[33m\"\u001b[39m: [\u001b[32m78\u001b[39m, \u001b[32m80\u001b[39m, \u001b[32m88\u001b[39m], \u001b[33m\"\u001b[39m\u001b[33mCharlie\u001b[39m\u001b[33m\"\u001b[39m: [\u001b[32m95\u001b[39m, \u001b[32m92\u001b[39m, \u001b[32m89\u001b[39m]}\n\u001b[32m      7\u001b[39m \u001b[38;5;28;01mfor\u001b[39;00m student \u001b[38;5;129;01min\u001b[39;00m grade.keys():\n\u001b[32m----> \u001b[39m\u001b[32m8\u001b[39m     \u001b[38;5;28mprint\u001b[39m(\u001b[33mf\u001b[39m\u001b[33m'\u001b[39m\u001b[38;5;132;01m{\u001b[39;00m\u001b[38;5;28;43msum\u001b[39;49m\u001b[43m(\u001b[49m\u001b[43mgrade\u001b[49m\u001b[43m.\u001b[49m\u001b[43mvalues\u001b[49m\u001b[43m(\u001b[49m\u001b[43m)\u001b[49m\u001b[43m)\u001b[49m\u001b[38;5;132;01m}\u001b[39;00m\u001b[33m'\u001b[39m)\n",
      "\u001b[31mTypeError\u001b[39m: unsupported operand type(s) for +: 'int' and 'list'"
     ]
    }
   ],
   "source": [
    "# 도전!! (실패)\n",
    "\n",
    "students = [\n",
    "    {\"Alice\": [90, 85, 92]},\n",
    "    {\"Bob\": [78, 80, 88]}, \n",
    "    {\"Charlie\": [95, 92, 89]}\n",
    "]\n",
    "\n",
    "grade = \n",
    "\n",
    "for student in grade.keys():\n",
    "    print(f'{sum(grade.values())}')"
   ]
  },
  {
   "cell_type": "code",
   "execution_count": 34,
   "id": "624505d7",
   "metadata": {},
   "outputs": [
    {
     "name": "stdout",
     "output_type": "stream",
     "text": [
      "ArithmeticError\n",
      "AssertionError\n",
      "AttributeError\n",
      "BaseException\n",
      "BaseExceptionGroup\n",
      "BlockingIOError\n",
      "BrokenPipeError\n",
      "BufferError\n",
      "BytesWarning\n",
      "ChildProcessError\n",
      "ConnectionAbortedError\n",
      "ConnectionError\n",
      "ConnectionRefusedError\n",
      "ConnectionResetError\n",
      "DeprecationWarning\n",
      "EOFError\n",
      "Ellipsis\n",
      "EncodingWarning\n",
      "EnvironmentError\n",
      "Exception\n",
      "ExceptionGroup\n",
      "False\n",
      "FileExistsError\n",
      "FileNotFoundError\n",
      "FloatingPointError\n",
      "FutureWarning\n",
      "GeneratorExit\n",
      "IOError\n",
      "ImportError\n",
      "ImportWarning\n",
      "IndentationError\n",
      "IndexError\n",
      "InterruptedError\n",
      "IsADirectoryError\n",
      "KeyError\n",
      "KeyboardInterrupt\n",
      "LookupError\n",
      "MemoryError\n",
      "ModuleNotFoundError\n",
      "NameError\n",
      "None\n",
      "NotADirectoryError\n",
      "NotImplemented\n",
      "NotImplementedError\n",
      "OSError\n",
      "OverflowError\n",
      "PendingDeprecationWarning\n",
      "PermissionError\n",
      "ProcessLookupError\n",
      "RecursionError\n",
      "ReferenceError\n",
      "ResourceWarning\n",
      "RuntimeError\n",
      "RuntimeWarning\n",
      "StopAsyncIteration\n",
      "StopIteration\n",
      "SyntaxError\n",
      "SyntaxWarning\n",
      "SystemError\n",
      "SystemExit\n",
      "TabError\n",
      "TimeoutError\n",
      "True\n",
      "TypeError\n",
      "UnboundLocalError\n",
      "UnicodeDecodeError\n",
      "UnicodeEncodeError\n",
      "UnicodeError\n",
      "UnicodeTranslateError\n",
      "UnicodeWarning\n",
      "UserWarning\n",
      "ValueError\n",
      "Warning\n",
      "WindowsError\n",
      "ZeroDivisionError\n",
      "__IPYTHON__\n",
      "__build_class__\n",
      "__debug__\n",
      "__doc__\n",
      "__import__\n",
      "__loader__\n",
      "__name__\n",
      "__package__\n",
      "__spec__\n",
      "abs\n",
      "aiter\n",
      "all\n",
      "anext\n",
      "any\n",
      "ascii\n",
      "bin\n",
      "bool\n",
      "breakpoint\n",
      "bytearray\n",
      "bytes\n",
      "callable\n",
      "chr\n",
      "classmethod\n",
      "compile\n",
      "complex\n",
      "copyright\n",
      "credits\n",
      "delattr\n",
      "dict\n",
      "dir\n",
      "display\n",
      "divmod\n",
      "enumerate\n",
      "eval\n",
      "exec\n",
      "execfile\n",
      "filter\n",
      "float\n",
      "format\n",
      "frozenset\n",
      "get_ipython\n",
      "getattr\n",
      "globals\n",
      "hasattr\n",
      "hash\n",
      "help\n",
      "hex\n",
      "id\n",
      "input\n",
      "int\n",
      "isinstance\n",
      "issubclass\n",
      "iter\n",
      "len\n",
      "license\n",
      "list\n",
      "locals\n",
      "map\n",
      "max\n",
      "memoryview\n",
      "min\n",
      "next\n",
      "object\n",
      "oct\n",
      "open\n",
      "ord\n",
      "pow\n",
      "print\n",
      "property\n",
      "range\n",
      "repr\n",
      "reversed\n",
      "round\n",
      "runfile\n",
      "set\n",
      "setattr\n",
      "slice\n",
      "sorted\n",
      "staticmethod\n",
      "str\n",
      "sum\n",
      "super\n",
      "tuple\n",
      "type\n",
      "vars\n",
      "zip\n"
     ]
    }
   ],
   "source": [
    "for i in dir(__builtins__): print(i)"
   ]
  },
  {
   "cell_type": "code",
   "execution_count": null,
   "id": "269b77ff",
   "metadata": {},
   "outputs": [],
   "source": [
    "# 사용자 정의 함수\n",
    "\n",
    "# def 함수이름(매개변수):\n",
    "#   print('함수내부')\n",
    "#   return 반환값"
   ]
  },
  {
   "cell_type": "code",
   "execution_count": 35,
   "id": "1c1bd991",
   "metadata": {},
   "outputs": [],
   "source": [
    "def myAdd(a, b):\n",
    "    result = a + b\n",
    "    return result"
   ]
  },
  {
   "cell_type": "code",
   "execution_count": 37,
   "id": "876a0f64",
   "metadata": {},
   "outputs": [
    {
     "data": {
      "text/plain": [
       "27"
      ]
     },
     "execution_count": 37,
     "metadata": {},
     "output_type": "execute_result"
    }
   ],
   "source": [
    "# 세 개의 숫자를 입력 받아 가장 큰 수를 출력하는 num_max 함수를 정의\n",
    "\n",
    "def num_max(a,b,c):\n",
    "    max_val = a\n",
    "    if b > max_val:\n",
    "        max_val = b\n",
    "    if c > max_val:\n",
    "        max_val = c\n",
    "    return max_val\n",
    "\n",
    "num= num_max(10, 15, 27)\n",
    "num"
   ]
  },
  {
   "cell_type": "code",
   "execution_count": 43,
   "id": "3a274b51",
   "metadata": {},
   "outputs": [
    {
     "data": {
      "text/plain": [
       "24"
      ]
     },
     "execution_count": 43,
     "metadata": {},
     "output_type": "execute_result"
    }
   ],
   "source": [
    "# 숫자의 배열을 입력하면 가장 작은 값을 구하는 함수\n",
    "\n",
    "def num_min(numArray):\n",
    "    output = numArray[0]\n",
    "    for i in numArray:\n",
    "        if output > i:\n",
    "            output = i\n",
    "\n",
    "    return output\n",
    "\n",
    "\n",
    "\n",
    "testArray = [52, 274, 32, 103, 275, 24, 56]\n",
    "num_min(testArray)"
   ]
  },
  {
   "cell_type": "code",
   "execution_count": 53,
   "id": "771d5ca7",
   "metadata": {},
   "outputs": [
    {
     "name": "stdout",
     "output_type": "stream",
     "text": [
      "2022년은 윤년일까? False\n",
      "2022년은 윤년일까? True\n",
      "2022년은 윤년일까? True\n",
      "2022년은 윤년일까? True\n",
      "2022년은 윤년일까? False\n"
     ]
    }
   ],
   "source": [
    "# 윤년을 확인하는 함수 만들기\n",
    "\n",
    "def isLeapYear(year):\n",
    "    if year % 4 == 0 and year % 100 != 0 or year % 400 ==0:\n",
    "        return True\n",
    "    else:\n",
    "        return False\n",
    "    \n",
    "print(f'2022년은 윤년일까? {isLeapYear(2022)}')\n",
    "print(f'2022년은 윤년일까? {isLeapYear(2020)}')\n",
    "print(f'2022년은 윤년일까? {isLeapYear(2000)}')\n",
    "print(f'2022년은 윤년일까? {isLeapYear(2012)}')\n",
    "print(f'2022년은 윤년일까? {isLeapYear(1900)}')"
   ]
  },
  {
   "cell_type": "code",
   "execution_count": null,
   "id": "5dce39e3",
   "metadata": {},
   "outputs": [
    {
     "data": {
      "text/plain": [
       "36"
      ]
     },
     "execution_count": 60,
     "metadata": {},
     "output_type": "execute_result"
    }
   ],
   "source": [
    "# (*~) : 임의의 갯수의 인자를 받을 수 있음.\n",
    "\n",
    "def add_many(*args):\n",
    "    sum = 0\n",
    "    for i in args:\n",
    "        sum = sum + i\n",
    "    return sum\n",
    "\n",
    "\n",
    "add_many(1,2,3,4,5,6,7,8)"
   ]
  },
  {
   "cell_type": "code",
   "execution_count": 76,
   "id": "1817b330",
   "metadata": {},
   "outputs": [
    {
     "data": {
      "text/plain": [
       "720"
      ]
     },
     "execution_count": 76,
     "metadata": {},
     "output_type": "execute_result"
    }
   ],
   "source": [
    "def add_mul(choice, *args):\n",
    "    if choice == 'add':\n",
    "        result = 0\n",
    "        for i in args:\n",
    "            result += i\n",
    "    elif choice == 'mul':\n",
    "        result = 1\n",
    "        for i in args:\n",
    "            result *= i\n",
    "    else:\n",
    "        print('잘못된 연산자입니다.')\n",
    "        result = None\n",
    "\n",
    "    return result\n",
    "\n",
    "\n",
    "add_mul('mul', 1,2,3,4,5,6)"
   ]
  },
  {
   "cell_type": "code",
   "execution_count": 81,
   "id": "59285bb6",
   "metadata": {},
   "outputs": [
    {
     "data": {
      "text/plain": [
       "(14, 48)"
      ]
     },
     "execution_count": 81,
     "metadata": {},
     "output_type": "execute_result"
    }
   ],
   "source": [
    "def add_and_mul(a,b):\n",
    "    return a+b, a*b\n",
    "\n",
    "result = add_and_mul(6,8)\n",
    "result"
   ]
  },
  {
   "cell_type": "code",
   "execution_count": 84,
   "id": "9617e981",
   "metadata": {},
   "outputs": [
    {
     "name": "stdout",
     "output_type": "stream",
     "text": [
      "(13, 7, 30, 3, 1)\n"
     ]
    }
   ],
   "source": [
    "def func(a,b):\n",
    "    return a+b, a-b, a*b, a//b, a%b\n",
    "\n",
    "print(func(10,3))"
   ]
  },
  {
   "cell_type": "code",
   "execution_count": 99,
   "id": "fd632584",
   "metadata": {},
   "outputs": [],
   "source": [
    "def say_maself(name, age, man= False):\n",
    "    print(name, age, man)"
   ]
  },
  {
   "cell_type": "code",
   "execution_count": 101,
   "id": "c917477a",
   "metadata": {},
   "outputs": [
    {
     "ename": "SyntaxError",
     "evalue": "non-default argument follows default argument (4038853852.py, line 1)",
     "output_type": "error",
     "traceback": [
      "  \u001b[36mCell\u001b[39m\u001b[36m \u001b[39m\u001b[32mIn[101]\u001b[39m\u001b[32m, line 1\u001b[39m\n\u001b[31m    \u001b[39m\u001b[31mdef say_maself(name, man= True, age):\u001b[39m\n                                    ^\n\u001b[31mSyntaxError\u001b[39m\u001b[31m:\u001b[39m non-default argument follows default argument\n"
     ]
    }
   ],
   "source": [
    "def say_maself(name, man= True, age):\n",
    "    print(name, man, age)"
   ]
  },
  {
   "cell_type": "code",
   "execution_count": 96,
   "id": "e47a454d",
   "metadata": {},
   "outputs": [
    {
     "name": "stdout",
     "output_type": "stream",
     "text": [
      "chris 29 False\n"
     ]
    }
   ],
   "source": [
    "say_maself('chris', 29)"
   ]
  },
  {
   "cell_type": "code",
   "execution_count": 102,
   "id": "467044f0",
   "metadata": {},
   "outputs": [
    {
     "name": "stdout",
     "output_type": "stream",
     "text": [
      "1\n"
     ]
    }
   ],
   "source": [
    "# 함수와 변수의 효력 범위\n",
    "\n",
    "a = 1\n",
    "def vartest(a):\n",
    "    a = a +1\n",
    "\n",
    "vartest(a)\n",
    "print(a)\n",
    "    "
   ]
  },
  {
   "cell_type": "code",
   "execution_count": 104,
   "id": "ee46f4db",
   "metadata": {},
   "outputs": [
    {
     "name": "stdout",
     "output_type": "stream",
     "text": [
      "1\n"
     ]
    }
   ],
   "source": [
    "\n",
    "def vartest(a):\n",
    "    a = a +1\n",
    "\n",
    "vartest(3)\n",
    "print(a)"
   ]
  },
  {
   "cell_type": "code",
   "execution_count": 106,
   "id": "b40404d2",
   "metadata": {},
   "outputs": [
    {
     "data": {
      "text/plain": [
       "[2, 3, 4, 5, 6]"
      ]
     },
     "execution_count": 106,
     "metadata": {},
     "output_type": "execute_result"
    }
   ],
   "source": [
    "myList = [1, 2, 3, 4, 5]\n",
    "\n",
    "def add_one(n):\n",
    "    return n+1\n",
    "\n",
    "list(map(add_one, myList)) #add_one(1), add_one(2)...add_one(5)"
   ]
  },
  {
   "cell_type": "code",
   "execution_count": 109,
   "id": "f04b6d7e",
   "metadata": {},
   "outputs": [
    {
     "data": {
      "text/plain": [
       "[3, -6, 100, 26]"
      ]
     },
     "execution_count": 109,
     "metadata": {},
     "output_type": "execute_result"
    }
   ],
   "source": [
    "f= (3.14, -5.625, 100.4, 25.8)\n",
    "\n",
    "list(map(round, f))"
   ]
  },
  {
   "cell_type": "code",
   "execution_count": 131,
   "id": "0b55b9b5",
   "metadata": {},
   "outputs": [
    {
     "data": {
      "text/plain": [
       "[(52, 19, 0), (255, 63, 68), (39, 227, 255), (132, 197, 187)]"
      ]
     },
     "execution_count": 131,
     "metadata": {},
     "output_type": "execute_result"
    }
   ],
   "source": [
    "r= (52, 255, 39, 132)\n",
    "g= (19, 63, 227, 197)\n",
    "b= (0, 68, 255, 187)\n",
    "\n",
    "list(zip(r,g,b))"
   ]
  },
  {
   "cell_type": "code",
   "execution_count": 146,
   "id": "600ca253",
   "metadata": {},
   "outputs": [
    {
     "name": "stdout",
     "output_type": "stream",
     "text": [
      "{1: 'apple', 2: 'orange', 3: 'banana', 4: 'mango'}\n"
     ]
    }
   ],
   "source": [
    "f= ('apple', 'orange', 'banana', 'mango')\n",
    "\n",
    "tag= dict(enumerate(f, start=1))\n",
    "print(tag)\n"
   ]
  },
  {
   "cell_type": "code",
   "execution_count": 130,
   "id": "0e452b83",
   "metadata": {},
   "outputs": [
    {
     "data": {
      "text/plain": [
       "[8, 7, 9]"
      ]
     },
     "execution_count": 130,
     "metadata": {},
     "output_type": "execute_result"
    }
   ],
   "source": [
    "def f(x):\n",
    "    return x>5 and x<10\n",
    "\n",
    "a= [8, 3, 2, 10, 15, 7, 9, 0, 11]\n",
    "list(filter(f,a))"
   ]
  },
  {
   "cell_type": "code",
   "execution_count": 149,
   "id": "fca47f24",
   "metadata": {},
   "outputs": [
    {
     "data": {
      "text/plain": [
       "[2, 3, 4, 5, 6]"
      ]
     },
     "execution_count": 149,
     "metadata": {},
     "output_type": "execute_result"
    }
   ],
   "source": [
    "myList = [1, 2, 3, 4, 5]\n",
    "\n",
    "list(map(lambda n:n+1 , myList))"
   ]
  },
  {
   "cell_type": "code",
   "execution_count": 170,
   "id": "8e08f5b1",
   "metadata": {},
   "outputs": [
    {
     "name": "stdout",
     "output_type": "stream",
     "text": [
      "[1, 4, 9, 16]\n"
     ]
    }
   ],
   "source": [
    "numbers = [1, 2, 3, 4]\n",
    "\n",
    "squared= list(map(lambda numbers:numbers**2,numbers))\n",
    "print(squared)"
   ]
  },
  {
   "cell_type": "code",
   "execution_count": 173,
   "id": "cb3ff5e1",
   "metadata": {},
   "outputs": [
    {
     "name": "stdout",
     "output_type": "stream",
     "text": [
      "[2, 4]\n"
     ]
    }
   ],
   "source": [
    "numbers= [1, 2, 3, 4, 5]\n",
    "\n",
    "even_numbers= list(filter(lambda x:x%2==0,numbers))\n",
    "print(even_numbers)"
   ]
  },
  {
   "cell_type": "code",
   "execution_count": 178,
   "id": "34636ecb",
   "metadata": {},
   "outputs": [
    {
     "name": "stdout",
     "output_type": "stream",
     "text": [
      "[(5, 1), (1, 2), (3, 4)]\n"
     ]
    }
   ],
   "source": [
    "points = [(1,2),(3,4),(5,1)]\n",
    "sorted_points= list(sorted(points,key=lambda x:x[1]))\n",
    "print(sorted_points)"
   ]
  },
  {
   "cell_type": "markdown",
   "id": "9cf40267",
   "metadata": {},
   "source": [
    "###모듈"
   ]
  },
  {
   "cell_type": "code",
   "execution_count": 1,
   "id": "9d1cc572",
   "metadata": {},
   "outputs": [
    {
     "name": "stdout",
     "output_type": "stream",
     "text": [
      "[11, 10, 17, 1, 3, 29]\n"
     ]
    }
   ],
   "source": [
    "# 난수 번호 추첨기(무작위 6개 숫자 생성)\n",
    "\n",
    "import random\n",
    "\n",
    "\n",
    "results= []\n",
    "while len(results)<6:\n",
    "    numbers= random.randint(1,45)\n",
    "    if numbers not in results:\n",
    "        results.append(numbers)\n",
    "\n",
    "print(results)"
   ]
  }
 ],
 "metadata": {
  "kernelspec": {
   "display_name": "Python 3",
   "language": "python",
   "name": "python3"
  },
  "language_info": {
   "codemirror_mode": {
    "name": "ipython",
    "version": 3
   },
   "file_extension": ".py",
   "mimetype": "text/x-python",
   "name": "python",
   "nbconvert_exporter": "python",
   "pygments_lexer": "ipython3",
   "version": "3.11.9"
  }
 },
 "nbformat": 4,
 "nbformat_minor": 5
}
