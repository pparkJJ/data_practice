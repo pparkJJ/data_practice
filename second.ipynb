{
 "cells": [
  {
   "cell_type": "markdown",
   "id": "f67b20f3",
   "metadata": {},
   "source": [
    "#### 0410 복습"
   ]
  },
  {
   "cell_type": "code",
   "execution_count": null,
   "id": "d583d7e0",
   "metadata": {},
   "outputs": [],
   "source": [
    "# 나이를 입력 받아서\n",
    "# 20살 이상이면 성인, 아니면 미성년자라는 메세지를 출력하는 프로그램"
   ]
  },
  {
   "cell_type": "code",
   "execution_count": 11,
   "id": "517d1d46",
   "metadata": {},
   "outputs": [
    {
     "name": "stdout",
     "output_type": "stream",
     "text": [
      "미성년자입니다\n"
     ]
    }
   ],
   "source": [
    "age= int(input('나이를 입력하세요'))\n",
    "\n",
    "if age<1 or age>100:\n",
    "    print('다시 입력해주세요.')\n",
    "elif age<20:\n",
    "    print('미성년자입니다')\n",
    "else:\n",
    "    print('성인입니다.')"
   ]
  },
  {
   "cell_type": "code",
   "execution_count": null,
   "id": "f0ca3490",
   "metadata": {},
   "outputs": [],
   "source": [
    "# 조건부 표현식"
   ]
  },
  {
   "cell_type": "code",
   "execution_count": null,
   "id": "08eb5d5d",
   "metadata": {},
   "outputs": [
    {
     "name": "stdout",
     "output_type": "stream",
     "text": [
      "미성년자입니다\n"
     ]
    }
   ],
   "source": [
    "result = '성인입니다.' if age >=20 else '미성년자입니다'\n",
    "# 변수 = 조건문이_참인_경우의_값 if 조건문 else 조건문이_거짓인_경우의_값\n",
    "print(result)"
   ]
  },
  {
   "cell_type": "code",
   "execution_count": 13,
   "id": "eb6accbf",
   "metadata": {},
   "outputs": [
    {
     "name": "stdout",
     "output_type": "stream",
     "text": [
      "B\n"
     ]
    }
   ],
   "source": [
    "score =85\n",
    "\n",
    "grade = 'A' if score >=90 else 'B' if score >=80 else 'F'\n",
    "\n",
    "print(grade)"
   ]
  },
  {
   "cell_type": "code",
   "execution_count": null,
   "id": "e42a6305",
   "metadata": {},
   "outputs": [],
   "source": [
    "# 비밀번호가 'python'이 입력될 때까지 계속 비밀번호 입력을 요구하는 시스템"
   ]
  },
  {
   "cell_type": "code",
   "execution_count": null,
   "id": "a71d7532",
   "metadata": {},
   "outputs": [
    {
     "name": "stdout",
     "output_type": "stream",
     "text": [
      "로그인 성공.\n"
     ]
    }
   ],
   "source": [
    "password = input('비밀번호를 입력해주세요.') #변수를 미리 선언해줘야함. ex)password = ''\n",
    "while password !='python':\n",
    "    password = input('비밀번호를 다시 입력해주세요.')\n",
    "\n",
    "print('로그인 성공.')"
   ]
  },
  {
   "cell_type": "markdown",
   "id": "1677309d",
   "metadata": {},
   "source": []
  },
  {
   "cell_type": "markdown",
   "id": "97cbfeb6",
   "metadata": {},
   "source": [
    "# 0411 파이썬 기본2"
   ]
  },
  {
   "cell_type": "markdown",
   "id": "a834c855",
   "metadata": {},
   "source": [
    "### for 문"
   ]
  },
  {
   "cell_type": "markdown",
   "id": "d5ef7c8f",
   "metadata": {},
   "source": [
    "for 변수 in 바구니:\n",
    "    반복할 문장"
   ]
  },
  {
   "cell_type": "code",
   "execution_count": 21,
   "id": "5127b5bc",
   "metadata": {},
   "outputs": [
    {
     "name": "stdout",
     "output_type": "stream",
     "text": [
      "0 Hello\n",
      "1 Hello\n",
      "2 Hello\n",
      "3 Hello\n",
      "4 Hello\n"
     ]
    }
   ],
   "source": [
    "for i in range(5): #=5번 반복하라\n",
    "    print(i, 'Hello')"
   ]
  },
  {
   "cell_type": "code",
   "execution_count": null,
   "id": "6fe426ad",
   "metadata": {},
   "outputs": [
    {
     "name": "stdout",
     "output_type": "stream",
     "text": [
      "1 Hello\n",
      "2 Hello\n",
      "3 Hello\n",
      "4 Hello\n",
      "5 Hello\n"
     ]
    }
   ],
   "source": [
    "for i in range(1,6):\n",
    "    print(i, 'Hello')"
   ]
  },
  {
   "cell_type": "code",
   "execution_count": 39,
   "id": "153c0fa9",
   "metadata": {},
   "outputs": [
    {
     "name": "stdout",
     "output_type": "stream",
     "text": [
      "1부터 10까지의 합= 55\n"
     ]
    }
   ],
   "source": [
    "# for 반복문을 사용해서 1부터 10까지의 합을 구해주세요.\n",
    "\n",
    "sum = 0\n",
    "\n",
    "for i in range(1,11):\n",
    "    sum += i\n",
    "print('1부터 10까지의 합=',sum)\n"
   ]
  },
  {
   "cell_type": "code",
   "execution_count": null,
   "id": "2f70018b",
   "metadata": {},
   "outputs": [
    {
     "name": "stdout",
     "output_type": "stream",
     "text": [
      "3 * 1= 3\n",
      "3 * 2= 6\n",
      "3 * 3= 9\n",
      "3 * 4= 12\n",
      "3 * 5= 15\n",
      "3 * 6= 18\n",
      "3 * 7= 21\n",
      "3 * 8= 24\n",
      "3 * 9= 27\n",
      "----------------------------------------\n",
      "3 * 1 = 3\n",
      "3 * 2 = 6\n",
      "3 * 3 = 9\n",
      "3 * 4 = 12\n",
      "3 * 5 = 15\n",
      "3 * 6 = 18\n",
      "3 * 7 = 21\n",
      "3 * 8 = 24\n",
      "3 * 9 = 27\n"
     ]
    }
   ],
   "source": [
    "gugu= int(input('몇 단을 할건지 입력'))\n",
    "\n",
    "# for 문으로 작성해보기\n",
    "for i in range(1,10):\n",
    "    print(f'{gugu} * {i}=',gugu*i)\n",
    "\n",
    "print('-'*40)\n",
    "\n",
    "# while 문으로 작성해보기\n",
    "i = 1\n",
    "while i<10:\n",
    "    print(f'{gugu} * {i} = {gugu*i}')\n",
    "    i += 1"
   ]
  },
  {
   "cell_type": "code",
   "execution_count": null,
   "id": "0d01e99a",
   "metadata": {},
   "outputs": [
    {
     "name": "stdout",
     "output_type": "stream",
     "text": [
      "정수:8, 합:36\n"
     ]
    }
   ],
   "source": [
    "# break 키워드: 실행 중 중단하고 반복문 탈출\n",
    "\n",
    "# 1~10까지 더하되, 합이 20 이상이 될 때 정수값 찾기\n",
    "\n",
    "sum = 0\n",
    "sumtil = int(input('몇이상까지?'))\n",
    "\n",
    "for i in range(1,20):\n",
    "    sum += i\n",
    "    if sum >=sumtil:\n",
    "        print(f'정수:{i}, 합:{sum}')\n",
    "        break\n",
    "\n"
   ]
  },
  {
   "cell_type": "code",
   "execution_count": null,
   "id": "97c8204b",
   "metadata": {},
   "outputs": [
    {
     "name": "stdout",
     "output_type": "stream",
     "text": [
      "1 3 5 7 9 \n",
      "1부터 10까지의 합=25\n"
     ]
    }
   ],
   "source": [
    "# continue 키워드: 조건이 만족될 시 위로 올라가는 듯\n",
    "\n",
    "sum = 0\n",
    "\n",
    "for i in range(1,11):\n",
    "    if i %2 ==0:\n",
    "        continue\n",
    "    print(i, end=' ')\n",
    "    sum += i\n",
    "\n",
    "print(f'\\n1부터 10까지의 합={sum}')"
   ]
  },
  {
   "cell_type": "code",
   "execution_count": null,
   "id": "b656a2c4",
   "metadata": {},
   "outputs": [
    {
     "name": "stdout",
     "output_type": "stream",
     "text": [
      "50보다 낮습니다, 숫자를 다시 입력해주세요.\n",
      "50보다 낮습니다, 숫자를 다시 입력해주세요.\n",
      "25보다 높습니다, 숫자를 다시 입력해주세요.\n",
      "25보다 높습니다, 숫자를 다시 입력해주세요.\n",
      "37보다 낮습니다, 숫자를 다시 입력해주세요.\n",
      "30정답입니다.\n"
     ]
    }
   ],
   "source": [
    "#숫자 맞추기 게임\n",
    "\n",
    "import random\n",
    "\n",
    "answer= random.randint(1,100)\n",
    "\n",
    "while True:\n",
    "    num= int(input('숫자를 입력해주세요.'))\n",
    "    if num ==answer:\n",
    "        break\n",
    "    elif num<answer:\n",
    "        print(f'{num}보다 높습니다, 숫자를 다시 입력해주세요.')      \n",
    "    else:\n",
    "        print(f'{num}보다 낮습니다, 숫자를 다시 입력해주세요.')\n",
    "        \n",
    "print(f'{num}정답입니다.')\n",
    "\n",
    "A"
   ]
  },
  {
   "cell_type": "code",
   "execution_count": 100,
   "id": "9bd5862d",
   "metadata": {},
   "outputs": [
    {
     "name": "stdout",
     "output_type": "stream",
     "text": [
      "2 4 6 8 10 12 14 16 18 \n",
      "3 6 9 12 15 18 21 24 27 \n",
      "4 8 12 16 20 24 28 32 36 \n",
      "5 10 15 20 25 30 35 40 45 \n",
      "6 12 18 24 30 36 42 48 54 \n",
      "7 14 21 28 35 42 49 56 63 \n",
      "8 16 24 32 40 48 56 64 72 \n",
      "9 18 27 36 45 54 63 72 81 \n"
     ]
    }
   ],
   "source": [
    "# 구구단 출력하기 2-9단\n",
    "\n",
    "for r in range(2,10):\n",
    "    for i in range(1,10):\n",
    "        print(f'{i*r}',end=' ')\n",
    "    print('')\n",
    "    \n"
   ]
  },
  {
   "cell_type": "markdown",
   "id": "15b9bf27",
   "metadata": {},
   "source": [
    "### 자료형"
   ]
  },
  {
   "cell_type": "code",
   "execution_count": 133,
   "id": "3b09e8e8",
   "metadata": {},
   "outputs": [],
   "source": [
    "num = [1,2,[3,4],'life',6,'too']"
   ]
  },
  {
   "cell_type": "code",
   "execution_count": 144,
   "id": "bf6b0446",
   "metadata": {},
   "outputs": [],
   "source": [
    "a = [1,2,3,['a', 'b', 'c'],4,5]"
   ]
  },
  {
   "cell_type": "code",
   "execution_count": 124,
   "id": "8e444068",
   "metadata": {},
   "outputs": [
    {
     "data": {
      "text/plain": [
       "['a', 'b']"
      ]
     },
     "execution_count": 124,
     "metadata": {},
     "output_type": "execute_result"
    }
   ],
   "source": [
    "a[3][:2]"
   ]
  },
  {
   "cell_type": "code",
   "execution_count": 145,
   "id": "c3900a8b",
   "metadata": {},
   "outputs": [],
   "source": [
    "a[0]= 100"
   ]
  },
  {
   "cell_type": "code",
   "execution_count": 147,
   "id": "00322b04",
   "metadata": {},
   "outputs": [],
   "source": [
    "a[1:3] = [200,300]"
   ]
  },
  {
   "cell_type": "code",
   "execution_count": 148,
   "id": "9a53fde2",
   "metadata": {},
   "outputs": [
    {
     "data": {
      "text/plain": [
       "[100, 200, 300, ['a', 'b', 'c'], 4, 5]"
      ]
     },
     "execution_count": 148,
     "metadata": {},
     "output_type": "execute_result"
    }
   ],
   "source": [
    "a"
   ]
  },
  {
   "cell_type": "code",
   "execution_count": 149,
   "id": "5ae49ad9",
   "metadata": {},
   "outputs": [],
   "source": [
    "a.append('apple')"
   ]
  },
  {
   "cell_type": "code",
   "execution_count": 150,
   "id": "f97dc078",
   "metadata": {},
   "outputs": [
    {
     "data": {
      "text/plain": [
       "[100, 200, 300, ['a', 'b', 'c'], 4, 5, 'apple']"
      ]
     },
     "execution_count": 150,
     "metadata": {},
     "output_type": "execute_result"
    }
   ],
   "source": [
    "a"
   ]
  },
  {
   "cell_type": "code",
   "execution_count": 158,
   "id": "4c4ff134",
   "metadata": {},
   "outputs": [],
   "source": [
    "a.insert(2,'banana')"
   ]
  },
  {
   "cell_type": "code",
   "execution_count": 159,
   "id": "6544a40d",
   "metadata": {},
   "outputs": [
    {
     "data": {
      "text/plain": [
       "[100, 200, 'banana', 300, ['a', 'b', 'c'], 4, 5, 'apple']"
      ]
     },
     "execution_count": 159,
     "metadata": {},
     "output_type": "execute_result"
    }
   ],
   "source": [
    "a"
   ]
  },
  {
   "cell_type": "code",
   "execution_count": null,
   "id": "8f635562",
   "metadata": {},
   "outputs": [
    {
     "ename": "NameError",
     "evalue": "name 'a' is not defined",
     "output_type": "error",
     "traceback": [
      "\u001b[31m---------------------------------------------------------------------------\u001b[39m",
      "\u001b[31mNameError\u001b[39m                                 Traceback (most recent call last)",
      "\u001b[36mCell\u001b[39m\u001b[36m \u001b[39m\u001b[32mIn[1]\u001b[39m\u001b[32m, line 1\u001b[39m\n\u001b[32m----> \u001b[39m\u001b[32m1\u001b[39m \u001b[43ma\u001b[49m.remove(\u001b[33m'\u001b[39m\u001b[33mbanana\u001b[39m\u001b[33m'\u001b[39m)\n\u001b[32m      2\u001b[39m a\n",
      "\u001b[31mNameError\u001b[39m: name 'a' is not defined"
     ]
    }
   ],
   "source": [
    "a.remove('banana')"
   ]
  },
  {
   "cell_type": "code",
   "execution_count": 163,
   "id": "66c0ecd6",
   "metadata": {},
   "outputs": [
    {
     "data": {
      "text/plain": [
       "5"
      ]
     },
     "execution_count": 163,
     "metadata": {},
     "output_type": "execute_result"
    }
   ],
   "source": [
    "a.pop(5)"
   ]
  },
  {
   "cell_type": "code",
   "execution_count": 164,
   "id": "2ff34ede",
   "metadata": {},
   "outputs": [
    {
     "data": {
      "text/plain": [
       "[100, 200, 300, ['a', 'b', 'c'], 4, 'apple']"
      ]
     },
     "execution_count": 164,
     "metadata": {},
     "output_type": "execute_result"
    }
   ],
   "source": [
    "a"
   ]
  },
  {
   "cell_type": "code",
   "execution_count": 166,
   "id": "41393245",
   "metadata": {},
   "outputs": [
    {
     "data": {
      "text/plain": [
       "4"
      ]
     },
     "execution_count": 166,
     "metadata": {},
     "output_type": "execute_result"
    }
   ],
   "source": [
    "a.pop(3)"
   ]
  },
  {
   "cell_type": "code",
   "execution_count": 167,
   "id": "71daa02d",
   "metadata": {},
   "outputs": [
    {
     "data": {
      "text/plain": [
       "'apple'"
      ]
     },
     "execution_count": 167,
     "metadata": {},
     "output_type": "execute_result"
    }
   ],
   "source": [
    "a.pop()"
   ]
  },
  {
   "cell_type": "code",
   "execution_count": 168,
   "id": "63db6350",
   "metadata": {},
   "outputs": [
    {
     "data": {
      "text/plain": [
       "[100, 200, 300]"
      ]
     },
     "execution_count": 168,
     "metadata": {},
     "output_type": "execute_result"
    }
   ],
   "source": [
    "a"
   ]
  },
  {
   "cell_type": "code",
   "execution_count": 169,
   "id": "4b6456a3",
   "metadata": {},
   "outputs": [],
   "source": [
    "a.sort(reverse=True)"
   ]
  },
  {
   "cell_type": "code",
   "execution_count": 170,
   "id": "16729bbc",
   "metadata": {},
   "outputs": [
    {
     "data": {
      "text/plain": [
       "[300, 200, 100]"
      ]
     },
     "execution_count": 170,
     "metadata": {},
     "output_type": "execute_result"
    }
   ],
   "source": [
    "a"
   ]
  },
  {
   "cell_type": "code",
   "execution_count": 177,
   "id": "71383604",
   "metadata": {},
   "outputs": [
    {
     "name": "stdout",
     "output_type": "stream",
     "text": [
      "1번째 과목 통과입니다.\n",
      "2번째 과목 통과하지 못하였습니다\n",
      "3번째 과목 통과하지 못하였습니다\n",
      "4번째 과목 통과하지 못하였습니다\n",
      "5번째 과목 통과입니다.\n"
     ]
    }
   ],
   "source": [
    "# 점수표를 활용해서 80점 이상인 과목에 대해서만 통과 라고 출력하는 프로그램 만들어주세요.\n",
    "marks = [95, 25, 67, 45, 88]\n",
    "i =0\n",
    "\n",
    "for mark in marks:\n",
    "    i +=1\n",
    "    if mark >=80:\n",
    "        print(f'{i}번째 과목 통과입니다.')\n",
    "    else:\n",
    "        print(f'{i}번째 과목 통과하지 못하였습니다')"
   ]
  },
  {
   "cell_type": "code",
   "execution_count": null,
   "id": "ef033fe7",
   "metadata": {},
   "outputs": [
    {
     "name": "stdout",
     "output_type": "stream",
     "text": [
      "(다리미-미술) 다음 단어를 말해보세요.\n",
      "(미술-술래) 다음 단어를 말해보세요.\n",
      "(술래-래이이) 다음 단어를 말해보세요.\n",
      "(래이이-이시시시) 다음 단어를 말해보세요.\n",
      "(이시시시-시라이우) 다음 단어를 말해보세요.\n",
      "크크크는 틀렸습니다.\n"
     ]
    }
   ],
   "source": [
    "# 끝말잇기 게임\n",
    "\n",
    "gmik1= '다리미'\n",
    "\n",
    "while True:\n",
    "    gmik2= input('단어를 말해보세요')\n",
    "    if gmik1[-1] == gmik2[0]:\n",
    "        print(f'({gmik1}-{gmik2}) 다음 단어를 말해보세요.')\n",
    "        gmik1 = gmik2\n",
    "        continue\n",
    "    else:\n",
    "        break\n",
    "print(f'{gmik2}는 틀렸습니다.')"
   ]
  },
  {
   "cell_type": "code",
   "execution_count": 198,
   "id": "1a76af97",
   "metadata": {},
   "outputs": [],
   "source": [
    "# 딕셔너리\n",
    "\n",
    "menu = {'김밥':2000, '라면':3000, '돈까스':5000}"
   ]
  },
  {
   "cell_type": "code",
   "execution_count": 199,
   "id": "6d730553",
   "metadata": {},
   "outputs": [
    {
     "data": {
      "text/plain": [
       "dict"
      ]
     },
     "execution_count": 199,
     "metadata": {},
     "output_type": "execute_result"
    }
   ],
   "source": [
    "type(menu)"
   ]
  },
  {
   "cell_type": "code",
   "execution_count": 202,
   "id": "f5f4b82a",
   "metadata": {},
   "outputs": [],
   "source": [
    "menu['돈까스'] = 8000"
   ]
  },
  {
   "cell_type": "code",
   "execution_count": 203,
   "id": "6c7d769a",
   "metadata": {},
   "outputs": [
    {
     "data": {
      "text/plain": [
       "{'김밥': 2000, '라면': 3000, '돈까스': 8000}"
      ]
     },
     "execution_count": 203,
     "metadata": {},
     "output_type": "execute_result"
    }
   ],
   "source": [
    "menu"
   ]
  },
  {
   "cell_type": "code",
   "execution_count": 220,
   "id": "7ee3c56b",
   "metadata": {},
   "outputs": [],
   "source": [
    "menu['떡볶이']= 5500"
   ]
  },
  {
   "cell_type": "code",
   "execution_count": 205,
   "id": "e4016bc8",
   "metadata": {},
   "outputs": [
    {
     "data": {
      "text/plain": [
       "{'김밥': 2000, '라면': 3000, '돈까스': 8000, '떡볶이': 5500}"
      ]
     },
     "execution_count": 205,
     "metadata": {},
     "output_type": "execute_result"
    }
   ],
   "source": [
    "menu"
   ]
  },
  {
   "cell_type": "code",
   "execution_count": 206,
   "id": "c28e957c",
   "metadata": {},
   "outputs": [
    {
     "data": {
      "text/plain": [
       "dict_keys(['김밥', '라면', '돈까스', '떡볶이'])"
      ]
     },
     "execution_count": 206,
     "metadata": {},
     "output_type": "execute_result"
    }
   ],
   "source": [
    "menu.keys()"
   ]
  },
  {
   "cell_type": "code",
   "execution_count": 208,
   "id": "2a941dd7",
   "metadata": {},
   "outputs": [
    {
     "data": {
      "text/plain": [
       "dict_values([2000, 3000, 8000, 5500])"
      ]
     },
     "execution_count": 208,
     "metadata": {},
     "output_type": "execute_result"
    }
   ],
   "source": [
    "menu.values()"
   ]
  },
  {
   "cell_type": "code",
   "execution_count": 209,
   "id": "551bcc54",
   "metadata": {},
   "outputs": [
    {
     "data": {
      "text/plain": [
       "dict_items([('김밥', 2000), ('라면', 3000), ('돈까스', 8000), ('떡볶이', 5500)])"
      ]
     },
     "execution_count": 209,
     "metadata": {},
     "output_type": "execute_result"
    }
   ],
   "source": [
    "menu.items()"
   ]
  },
  {
   "cell_type": "code",
   "execution_count": 211,
   "id": "3c1f14d8",
   "metadata": {},
   "outputs": [
    {
     "name": "stdout",
     "output_type": "stream",
     "text": [
      "김밥\n",
      "라면\n",
      "돈까스\n",
      "떡볶이\n"
     ]
    }
   ],
   "source": [
    "for i in menu.keys():\n",
    "    print(i)"
   ]
  },
  {
   "cell_type": "code",
   "execution_count": 213,
   "id": "343a2ec5",
   "metadata": {},
   "outputs": [
    {
     "name": "stdout",
     "output_type": "stream",
     "text": [
      "김밥 2000\n",
      "라면 3000\n",
      "돈까스 8000\n",
      "떡볶이 5500\n"
     ]
    }
   ],
   "source": [
    "for i,j in menu.items():\n",
    "    print(i,j)"
   ]
  },
  {
   "cell_type": "code",
   "execution_count": 228,
   "id": "66fad99d",
   "metadata": {},
   "outputs": [],
   "source": [
    "addr = {\n",
    "    '김하나' : '010-1111-1111',\n",
    "    '김두울' : '010-2222-2222',\n",
    "    '김세엣' : '010-3333-3333'\n",
    "}"
   ]
  },
  {
   "cell_type": "code",
   "execution_count": 7,
   "id": "01cabfbe",
   "metadata": {},
   "outputs": [
    {
     "name": "stdout",
     "output_type": "stream",
     "text": [
      "메뉴를 선택하세요. 1:추가, 2:검색, 0:종료\n",
      "추가할 이름과 전화번호를 입력하세요.\n",
      "추가하신 이름은 박진섭이며 전화번호는(010-5555-5555)입니다\n",
      "메뉴를 선택하세요. 1:추가, 2:검색, 0:종료\n",
      "검색가능한 이름은 ['김하나', '김두울', '김세엣', '박진섭']입니다. 이름을 입력해주세요.\n",
      "박진섭의 전화번호는 (010-5555-5555) 입니다\n",
      "메뉴를 선택하세요. 1:추가, 2:검색, 0:종료\n",
      "프로그램을 종료합니다.\n"
     ]
    }
   ],
   "source": [
    "# 전화번호 검색 프로그램\n",
    "\n",
    "addr = {\n",
    "    '김하나' : '010-1111-1111',\n",
    "    '김두울' : '010-2222-2222',\n",
    "    '김세엣' : '010-3333-3333'\n",
    "}\n",
    "\n",
    "while True:\n",
    "    print('메뉴를 선택하세요. 1:추가, 2:검색, 0:종료')\n",
    "    choice = int(input('메뉴를 선택하세요'))\n",
    "    if choice == 0:\n",
    "        print('프로그램을 종료합니다.')\n",
    "        break\n",
    "    elif choice == 1:\n",
    "        print('추가할 이름과 전화번호를 입력하세요.')\n",
    "        name = input('추가할 이름 입력.')\n",
    "        phone = input('전화번호 입력.')\n",
    "        addr[name] = phone\n",
    "        print(f'추가하신 이름은 {name}이며 전화번호는({phone})입니다')\n",
    "    elif choice == 2:\n",
    "        print(f'검색가능한 이름은 {list(addr.keys())}입니다. 이름을 입력해주세요.')\n",
    "        name= input('검색할 이름을 입력.')\n",
    "        if addr.get(name):\n",
    "            print(f'{name}의 전화번호는 ({addr[name]}) 입니다')\n",
    "    else:\n",
    "        print('메뉴 선택 오류입니다. 다시 선택해주세요.')\n",
    "        \n"
   ]
  }
 ],
 "metadata": {
  "kernelspec": {
   "display_name": "Python 3",
   "language": "python",
   "name": "python3"
  },
  "language_info": {
   "codemirror_mode": {
    "name": "ipython",
    "version": 3
   },
   "file_extension": ".py",
   "mimetype": "text/x-python",
   "name": "python",
   "nbconvert_exporter": "python",
   "pygments_lexer": "ipython3",
   "version": "3.11.9"
  }
 },
 "nbformat": 4,
 "nbformat_minor": 5
}
